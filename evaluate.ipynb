{
 "cells": [
  {
   "cell_type": "code",
   "execution_count": 1,
   "metadata": {},
   "outputs": [],
   "source": [
    "import torch\n",
    "import torch.nn as nn\n",
    "from torch.utils.data import Dataset, DataLoader\n",
    "import cv2\n",
    "import numpy as np\n",
    "from albumentations.pytorch import ToTensorV2\n",
    "from albumentations import Compose, Normalize, Resize\n",
    "import pandas as pd\n",
    "from tqdm.notebook import tqdm\n",
    "import os\n",
    "import random"
   ]
  },
  {
   "cell_type": "code",
   "execution_count": 2,
   "metadata": {},
   "outputs": [
    {
     "data": {
      "text/plain": [
       "device(type='cuda')"
      ]
     },
     "execution_count": 2,
     "metadata": {},
     "output_type": "execute_result"
    }
   ],
   "source": [
    "device = torch.device('cuda' if torch.cuda.is_available() else 'cpu')\n",
    "device"
   ]
  },
  {
   "cell_type": "code",
   "execution_count": 3,
   "metadata": {},
   "outputs": [],
   "source": [
    "args = {}\n",
    "# path declaration\n",
    "args['DATA_DIR'] = 'data/DaanForestPark'\n",
    "args['LABEL_DIR'] = 'label2.csv'\n",
    "args['IMAGE_DIR'] = args['DATA_DIR']\n",
    "# model configurations\n",
    "args['VALID_RATIO'] = .2\n",
    "args['BATCH_SIZE'] = 64\n",
    "args['PATIENCE'] = 5"
   ]
  },
  {
   "cell_type": "code",
   "execution_count": 4,
   "metadata": {},
   "outputs": [],
   "source": [
    "class MyDataset(Dataset):\n",
    "    def __init__(self, images, labels, num_classes, transform=None):\n",
    "        self._image = iter(images)\n",
    "        self._labels = iter(labels)\n",
    "        self._number = len(images)\n",
    "        self._category = num_classes\n",
    "        self.transform = transform\n",
    "        \n",
    "    def __len__(self):\n",
    "        return self._number\n",
    "\n",
    "    def __getitem__(self, index):    \n",
    "        img = next(self._image)\n",
    "        lab = next(self._labels)\n",
    "        img = self._loadimage(img)\n",
    "        if self.transform:\n",
    "            img = self.transform(image=img)['image']\n",
    "        return img, lab\n",
    "     \n",
    "    def _categorical(self, label):\n",
    "        return np.arange(self._category) == label[:,None]\n",
    "    \n",
    "    def _loadimage(self, file):\n",
    "        image = cv2.imread(file)\n",
    "        return cv2.cvtColor(image, cv2.COLOR_BGR2RGB)   # BGR -> RGB"
   ]
  },
  {
   "cell_type": "code",
   "execution_count": 5,
   "metadata": {},
   "outputs": [],
   "source": [
    "transform_v = Compose([\n",
    "            Resize(224,224),\n",
    "            Normalize(\n",
    "                mean=[0.485, 0.456, 0.406],\n",
    "                std=[0.229, 0.224, 0.225],\n",
    "            ),\n",
    "            ToTensorV2(),\n",
    "        ])"
   ]
  },
  {
   "cell_type": "code",
   "execution_count": 6,
   "metadata": {},
   "outputs": [
    {
     "data": {
      "application/vnd.jupyter.widget-view+json": {
       "model_id": "77cdcf227ced4f4ebe58be41c68df8b7",
       "version_major": 2,
       "version_minor": 0
      },
      "text/plain": [
       "HBox(children=(FloatProgress(value=1.0, bar_style='info', max=1.0), HTML(value='')))"
      ]
     },
     "metadata": {},
     "output_type": "display_data"
    },
    {
     "name": "stdout",
     "output_type": "stream",
     "text": [
      "\n"
     ]
    }
   ],
   "source": [
    "_images, _labels = [], []\n",
    "# total amount of dataset \n",
    "_number = 0\n",
    "# Reading the categorical file\n",
    "label_df = pd.read_csv(args['LABEL_DIR'])\n",
    "corr_name2id = {label_df[label_df['label'] == n]['target'].unique()[0]:n for n in label_df['label'].unique()}\n",
    "corr_id2name = {v:k for k,v in corr_name2id.items()}\n",
    "num_classes = label_df['label'].nunique()\n",
    "\n",
    "# Iterate all files including .jpg inages  \n",
    "for subdir, dirs, files in tqdm(os.walk(args['IMAGE_DIR'])):\n",
    "    for filename in files:\n",
    "        cur_p = subdir + os.sep + filename\n",
    "        corr_label = label_df[label_df['dirpath']==os.sep.join(cur_p.split(os.sep)[1:-1])]['label']\n",
    "        if corr_label.size > 0 and filename.endswith('jpg'):\n",
    "                _images.append(cur_p)\n",
    "                _labels.append(corr_label.unique()[0])\n",
    "                _number+=1\n",
    "\n",
    "# Randomly arrange data pairs\n",
    "# Here behaves shuffle  and separates train/valid set\n",
    "mapIndexPosition = list(zip(_images, _labels))\n",
    "random.shuffle(mapIndexPosition)\n",
    "_images, _labels = zip(*mapIndexPosition)\n",
    "valid_size = args['VALID_RATIO']\n",
    "split = int(np.floor(valid_size * _number))"
   ]
  },
  {
   "cell_type": "code",
   "execution_count": 7,
   "metadata": {},
   "outputs": [],
   "source": [
    "valid_dataset = MyDataset(_images[:split], _labels[:split], num_classes, transform=transform_v)"
   ]
  },
  {
   "cell_type": "code",
   "execution_count": 8,
   "metadata": {},
   "outputs": [],
   "source": [
    "valid_loader = DataLoader(dataset=valid_dataset, batch_size=args['BATCH_SIZE'], num_workers=1, drop_last=True)"
   ]
  },
  {
   "cell_type": "markdown",
   "metadata": {},
   "source": [
    "## Using pretrained model "
   ]
  },
  {
   "cell_type": "code",
   "execution_count": 33,
   "metadata": {
    "scrolled": true
   },
   "outputs": [
    {
     "ename": "AttributeError",
     "evalue": "'dict' object has no attribute 'eval'",
     "output_type": "error",
     "traceback": [
      "\u001b[0;31m---------------------------------------------------------------------------\u001b[0m",
      "\u001b[0;31mAttributeError\u001b[0m                            Traceback (most recent call last)",
      "\u001b[0;32m<ipython-input-33-e8741a2ece92>\u001b[0m in \u001b[0;36m<module>\u001b[0;34m\u001b[0m\n\u001b[1;32m      1\u001b[0m \u001b[0mCKPT_PATH\u001b[0m \u001b[0;34m=\u001b[0m \u001b[0;34m'transfer/runs/experiment_111954/ckpt/resNet.ckpt'\u001b[0m\u001b[0;34m\u001b[0m\u001b[0;34m\u001b[0m\u001b[0m\n\u001b[1;32m      2\u001b[0m \u001b[0mmodel\u001b[0m \u001b[0;34m=\u001b[0m \u001b[0mtorch\u001b[0m\u001b[0;34m.\u001b[0m\u001b[0mload\u001b[0m\u001b[0;34m(\u001b[0m\u001b[0mCKPT_PATH\u001b[0m\u001b[0;34m)\u001b[0m\u001b[0;34m\u001b[0m\u001b[0;34m\u001b[0m\u001b[0m\n\u001b[0;32m----> 3\u001b[0;31m \u001b[0mmodel\u001b[0m\u001b[0;34m.\u001b[0m\u001b[0meval\u001b[0m\u001b[0;34m(\u001b[0m\u001b[0;34m)\u001b[0m\u001b[0;34m\u001b[0m\u001b[0;34m\u001b[0m\u001b[0m\n\u001b[0m\u001b[1;32m      4\u001b[0m \u001b[0mclassifier\u001b[0m \u001b[0;34m=\u001b[0m \u001b[0mlist\u001b[0m\u001b[0;34m(\u001b[0m\u001b[0mmodel\u001b[0m\u001b[0;34m.\u001b[0m\u001b[0mchildren\u001b[0m\u001b[0;34m(\u001b[0m\u001b[0;34m)\u001b[0m\u001b[0;34m)\u001b[0m\u001b[0;34m\u001b[0m\u001b[0;34m\u001b[0m\u001b[0m\n\u001b[1;32m      5\u001b[0m \u001b[0mmodel\u001b[0m \u001b[0;34m=\u001b[0m \u001b[0mnn\u001b[0m\u001b[0;34m.\u001b[0m\u001b[0mSequential\u001b[0m\u001b[0;34m(\u001b[0m\u001b[0;34m*\u001b[0m\u001b[0mclassifier\u001b[0m\u001b[0;34m[\u001b[0m\u001b[0;34m:\u001b[0m\u001b[0;34m-\u001b[0m\u001b[0;36m1\u001b[0m\u001b[0;34m]\u001b[0m\u001b[0;34m)\u001b[0m \u001b[0;31m# aims to get representations wherein has 512 dim.\u001b[0m\u001b[0;34m\u001b[0m\u001b[0;34m\u001b[0m\u001b[0m\n",
      "\u001b[0;31mAttributeError\u001b[0m: 'dict' object has no attribute 'eval'"
     ]
    }
   ],
   "source": [
    "CKPT_PATH = 'transfer/runs/experiment_111954/ckpt/resNet.ckpt'\n",
    "model = torch.load(CKPT_PATH)\n",
    "model.eval()\n",
    "classifier = list(model.children())\n",
    "model = nn.Sequential(*classifier[:-1]) # aims to get representations wherein has 512 dim."
   ]
  },
  {
   "cell_type": "code",
   "execution_count": null,
   "metadata": {},
   "outputs": [],
   "source": [
    "from torchsummary import summary\n",
    "summary(model,input_size=(3,224,224))"
   ]
  },
  {
   "cell_type": "code",
   "execution_count": 10,
   "metadata": {},
   "outputs": [],
   "source": [
    "def load_image(image):\n",
    "    image = cv2.imread(image)\n",
    "    return cv2.cvtColor(image, cv2.COLOR_BGR2RGB)"
   ]
  },
  {
   "cell_type": "code",
   "execution_count": 11,
   "metadata": {},
   "outputs": [],
   "source": [
    "def pred(X, model, transform=None):\n",
    "    input_ = transform_v(image=X)['image']\n",
    "    input_ = input_[np.newaxis,:,:,:]\n",
    "    input_cuda = input_.float().cuda()\n",
    "    res = model(input_cuda)\n",
    "    return res.squeeze()"
   ]
  },
  {
   "cell_type": "code",
   "execution_count": 12,
   "metadata": {},
   "outputs": [],
   "source": [
    "# sample_img = load_image('sample/sample.png')\n",
    "# pred(sample_img, model, transform_v)"
   ]
  },
  {
   "cell_type": "code",
   "execution_count": 13,
   "metadata": {},
   "outputs": [],
   "source": [
    "def validate():\n",
    "    for i, (img_batch, label_batch) in enumerate(valid_loader):\n",
    "        output = model(img_batch.to(device))\n",
    "        yield output.view(-1, 512), label_batch"
   ]
  },
  {
   "cell_type": "code",
   "execution_count": 14,
   "metadata": {},
   "outputs": [],
   "source": [
    "batch, label = next(validate())"
   ]
  },
  {
   "cell_type": "code",
   "execution_count": 15,
   "metadata": {},
   "outputs": [
    {
     "data": {
      "text/plain": [
       "((64, 512), (64,))"
      ]
     },
     "execution_count": 15,
     "metadata": {},
     "output_type": "execute_result"
    }
   ],
   "source": [
    "batch.cpu().detach().numpy().shape, label.cpu().detach().numpy().shape"
   ]
  },
  {
   "cell_type": "code",
   "execution_count": 16,
   "metadata": {},
   "outputs": [],
   "source": [
    "X = batch.cpu().detach().numpy()\n",
    "Y = label.cpu().detach().numpy()"
   ]
  },
  {
   "cell_type": "code",
   "execution_count": 17,
   "metadata": {},
   "outputs": [],
   "source": [
    "text = [corr_id2name[x] for x in Y]"
   ]
  },
  {
   "cell_type": "code",
   "execution_count": 18,
   "metadata": {},
   "outputs": [
    {
     "name": "stdout",
     "output_type": "stream",
     "text": [
      "PCA done! Time elapsed: 0.12221837043762207 seconds\n"
     ]
    }
   ],
   "source": [
    "from sklearn.decomposition import PCA\n",
    "import time\n",
    "time_start = time.time()\n",
    "pca = PCA(n_components=2)\n",
    "pca_result = pca.fit_transform(X)\n",
    "print('PCA done! Time elapsed: {} seconds'.format(time.time()-time_start))"
   ]
  },
  {
   "cell_type": "code",
   "execution_count": 19,
   "metadata": {},
   "outputs": [],
   "source": [
    "import seaborn as sns\n",
    "from matplotlib import pyplot as plt\n",
    "import matplotlib.patheffects as PathEffects\n",
    "%matplotlib inline\n",
    "plt.style.use('dark_background')\n",
    "\n",
    "def fashion_scatter(x, colors, texts):\n",
    "    # choose a color palette with seaborn.\n",
    "    num_classes = len(np.unique(colors))\n",
    "    palette = np.array(sns.color_palette(\"hls\", num_classes))\n",
    "    \n",
    "    hashmap = {i:n for n, i in enumerate(np.unique(colors))}\n",
    "    for index in range(len(colors)):\n",
    "        colors[index] = hashmap[colors[index]]\n",
    "\n",
    "    # create a scatter plot.\n",
    "    f = plt.figure(figsize=(15, 10))\n",
    "    ax = plt.subplot(aspect='equal')\n",
    "    sc = ax.scatter(x[:,0], x[:,1], lw=0, s=40, c=palette[colors.astype(np.int)])\n",
    "    plt.xlim(-25, 25)\n",
    "    plt.ylim(-25, 25)\n",
    "    ax.axis('off')\n",
    "    ax.axis('tight')\n",
    "\n",
    "    # add the labels for each digit corresponding to the label\n",
    "    txts = []\n",
    "\n",
    "    for i in range(num_classes):\n",
    "        # Position of each label at median of data points.\n",
    "        xtext, ytext = np.median(x[colors == i, :], axis=0)\n",
    "        txt = ax.text(xtext, ytext, texts[i], fontsize=14)\n",
    "        txt.set_path_effects([\n",
    "            PathEffects.Stroke(linewidth=1, foreground=\"w\"),\n",
    "            PathEffects.Normal()])\n",
    "        txts.append(txt)\n",
    "\n",
    "    return f, ax, sc, txts"
   ]
  },
  {
   "cell_type": "code",
   "execution_count": 20,
   "metadata": {},
   "outputs": [
    {
     "data": {
      "text/plain": [
       "(<Figure size 1080x720 with 1 Axes>,\n",
       " <matplotlib.axes._subplots.AxesSubplot at 0x7f57bc0ec0b8>,\n",
       " <matplotlib.collections.PathCollection at 0x7f57a458b710>,\n",
       " [Text(-1.4497826, -1.9707081, '台灣萍蓬草'),\n",
       "  Text(-1.4049332, 2.7873397, '槭葉牽牛'),\n",
       "  Text(-1.4043388, 1.8269663, '台灣萍蓬草'),\n",
       "  Text(-1.1450835, 0.40275505, '白花苜宿'),\n",
       "  Text(-0.8872243, -2.1882465, '黃扇鳶尾'),\n",
       "  Text(-0.8059184, -2.267442, '槭葉牽牛'),\n",
       "  Text(-1.942791, -1.9683387, '瑪格麗特'),\n",
       "  Text(-1.3391848, -1.3935258, '使君子'),\n",
       "  Text(2.5347123, -0.85958064, '黃扇鳶尾'),\n",
       "  Text(0.4069622, -0.70893514, '矮牽牛'),\n",
       "  Text(-1.2583905, -1.830038, '半邊蓮'),\n",
       "  Text(0.49404034, -1.9624268, '通泉草'),\n",
       "  Text(-2.1100903, 2.7292855, '黃扇鳶尾'),\n",
       "  Text(0.7436735, 2.1191232, '厚皮香'),\n",
       "  Text(-1.2329684, -0.66261506, '杜鵑花仙子'),\n",
       "  Text(-1.4552432, -0.9871805, '仙丹花'),\n",
       "  Text(-1.2000113, -0.726916, '三白草'),\n",
       "  Text(-1.6570861, -1.021727, '瑪格麗特'),\n",
       "  Text(6.712969, -0.798131, '銀葉菊'),\n",
       "  Text(-1.8577732, -1.503073, '瑪格麗特'),\n",
       "  Text(-1.0852399, 0.31889832, '瑪格麗特'),\n",
       "  Text(-2.0064445, 0.33874846, '紫嬌花'),\n",
       "  Text(-1.7002301, -0.488586, '台灣金絲桃'),\n",
       "  Text(1.2228065, 1.053584, '蜘蛛百合'),\n",
       "  Text(-1.1179739, 1.4968253, '九重葛'),\n",
       "  Text(-1.6025764, 1.2881777, '平戶杜鵑'),\n",
       "  Text(-1.0415356, -0.933156, '美人蕉'),\n",
       "  Text(5.130277, 3.5577757, '皋月杜鵑'),\n",
       "  Text(-1.1925696, 0.822045, '金露花'),\n",
       "  Text(-1.543127, -1.7749289, '厚皮香'),\n",
       "  Text(-2.1085794, -1.0202341, '冇骨消'),\n",
       "  Text(-0.260017, -2.3113656, '翠蘆莉'),\n",
       "  Text(1.4765633, -1.3862648, '艷紫荊'),\n",
       "  Text(-2.0130079, -1.7845613, '矮牽牛'),\n",
       "  Text(0.479196, -1.9148982, '非洲鳳仙花'),\n",
       "  Text(-1.4043363, 7.550652, '非洲鳳仙花'),\n",
       "  Text(-1.1307992, -1.79736, '孤挺花'),\n",
       "  Text(5.967239, 1.7075394, '六月雪'),\n",
       "  Text(0.65432477, 2.5812473, '阿勃勒')])"
      ]
     },
     "execution_count": 20,
     "metadata": {},
     "output_type": "execute_result"
    },
    {
     "data": {
      "image/png": "[encoded data removed]",
      "text/plain": [
       "<Figure size 1080x720 with 1 Axes>"
      ]
     },
     "metadata": {},
     "output_type": "display_data"
    }
   ],
   "source": [
    "fashion_scatter(pca_result, Y, text) # Visualizing the PCA output"
   ]
  },
  {
   "cell_type": "code",
   "execution_count": null,
   "metadata": {},
   "outputs": [],
   "source": []
  },
  {
   "cell_type": "code",
   "execution_count": null,
   "metadata": {},
   "outputs": [],
   "source": []
  }
 ],
 "metadata": {
  "kernelspec": {
   "display_name": "Python 3",
   "language": "python",
   "name": "python3"
  },
  "language_info": {
   "codemirror_mode": {
    "name": "ipython",
    "version": 3
   },
   "file_extension": ".py",
   "mimetype": "text/x-python",
   "name": "python",
   "nbconvert_exporter": "python",
   "pygments_lexer": "ipython3",
   "version": "3.7.2"
  }
 },
 "nbformat": 4,
 "nbformat_minor": 4
}
