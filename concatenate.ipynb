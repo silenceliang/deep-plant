{
 "cells": [
  {
   "cell_type": "markdown",
   "metadata": {},
   "source": [
    "# 合併訓練時儲存的 precision & recall csv"
   ]
  },
  {
   "cell_type": "markdown",
   "metadata": {},
   "source": [
    "## Import required libraries"
   ]
  },
  {
   "cell_type": "code",
   "execution_count": 2,
   "metadata": {},
   "outputs": [],
   "source": [
    "import os\n",
    "import glob\n",
    "import pandas as pd"
   ]
  },
  {
   "cell_type": "markdown",
   "metadata": {},
   "source": [
    "## Concatenate all csv file"
   ]
  },
  {
   "cell_type": "code",
   "execution_count": 3,
   "metadata": {},
   "outputs": [],
   "source": [
    "target_dir = 'resNet18_79dump'\n",
    "os.chdir(target_dir)\n",
    "extension = 'csv'\n",
    "all_filenames = [i for i in glob.glob('*.{}'.format(extension))]\n",
    "\n",
    "# combine all files in the list\n",
    "combined_csv = pd.concat([pd.read_csv(f).rename(index={0: f.split('_')[1][:-4]}) for f in all_filenames])\n",
    "combined_csv.drop(combined_csv.columns[1], axis=1, inplace=True)\n",
    "combined_csv.rename({combined_csv.columns[0]:'metric'}, axis='columns', inplace=True)\n",
    "combined_csv.head()\n",
    "\n",
    "# export to csv\n",
    "output_csv = 'combined.csv'\n",
    "outdir = 'result'\n",
    "if not os.path.exists(outdir):\n",
    "    os.mkdir(outdir)\n",
    "fullname = os.path.join(outdir, output_csv)    \n",
    "combined_csv.to_csv(fullname)"
   ]
  },
  {
   "cell_type": "markdown",
   "metadata": {},
   "source": [
    "# Explicit"
   ]
  },
  {
   "cell_type": "markdown",
   "metadata": {},
   "source": [
    "### PRECISION & RECALL"
   ]
  },
  {
   "cell_type": "code",
   "execution_count": 5,
   "metadata": {},
   "outputs": [
    {
     "data": {
      "text/html": [
       "<div>\n",
       "<style scoped>\n",
       "    .dataframe tbody tr th:only-of-type {\n",
       "        vertical-align: middle;\n",
       "    }\n",
       "\n",
       "    .dataframe tbody tr th {\n",
       "        vertical-align: top;\n",
       "    }\n",
       "\n",
       "    .dataframe thead th {\n",
       "        text-align: right;\n",
       "    }\n",
       "</style>\n",
       "<table border=\"1\" class=\"dataframe\">\n",
       "  <thead>\n",
       "    <tr style=\"text-align: right;\">\n",
       "      <th></th>\n",
       "      <th>target</th>\n",
       "      <th>metric</th>\n",
       "      <th>1</th>\n",
       "      <th>2</th>\n",
       "      <th>3</th>\n",
       "      <th>4</th>\n",
       "      <th>5</th>\n",
       "      <th>6</th>\n",
       "      <th>7</th>\n",
       "      <th>8</th>\n",
       "      <th>...</th>\n",
       "      <th>25</th>\n",
       "      <th>26</th>\n",
       "      <th>27</th>\n",
       "      <th>28</th>\n",
       "      <th>29</th>\n",
       "      <th>30</th>\n",
       "      <th>31</th>\n",
       "      <th>32</th>\n",
       "      <th>33</th>\n",
       "      <th>34</th>\n",
       "    </tr>\n",
       "  </thead>\n",
       "  <tbody>\n",
       "    <tr>\n",
       "      <th>0</th>\n",
       "      <td>common tulip</td>\n",
       "      <td>recall</td>\n",
       "      <td>0.428135</td>\n",
       "      <td>0.754332</td>\n",
       "      <td>0.795107</td>\n",
       "      <td>0.835882</td>\n",
       "      <td>0.835882</td>\n",
       "      <td>0.876656</td>\n",
       "      <td>0.876656</td>\n",
       "      <td>0.835882</td>\n",
       "      <td>...</td>\n",
       "      <td>0.876656</td>\n",
       "      <td>0.876656</td>\n",
       "      <td>0.876656</td>\n",
       "      <td>0.876656</td>\n",
       "      <td>0.876656</td>\n",
       "      <td>0.876656</td>\n",
       "      <td>0.876656</td>\n",
       "      <td>0.876656</td>\n",
       "      <td>0.876656</td>\n",
       "      <td>0.876656</td>\n",
       "    </tr>\n",
       "    <tr>\n",
       "      <th>2</th>\n",
       "      <td>desert-rose</td>\n",
       "      <td>recall</td>\n",
       "      <td>0.000000</td>\n",
       "      <td>0.000000</td>\n",
       "      <td>0.000000</td>\n",
       "      <td>0.000000</td>\n",
       "      <td>0.000000</td>\n",
       "      <td>0.000000</td>\n",
       "      <td>0.000000</td>\n",
       "      <td>0.327869</td>\n",
       "      <td>...</td>\n",
       "      <td>0.983607</td>\n",
       "      <td>0.983607</td>\n",
       "      <td>0.983607</td>\n",
       "      <td>0.983607</td>\n",
       "      <td>0.983607</td>\n",
       "      <td>0.983607</td>\n",
       "      <td>0.983607</td>\n",
       "      <td>0.983607</td>\n",
       "      <td>0.983607</td>\n",
       "      <td>0.983607</td>\n",
       "    </tr>\n",
       "    <tr>\n",
       "      <th>3</th>\n",
       "      <td>sweet pea</td>\n",
       "      <td>recall</td>\n",
       "      <td>0.000000</td>\n",
       "      <td>0.000000</td>\n",
       "      <td>0.000000</td>\n",
       "      <td>0.000000</td>\n",
       "      <td>0.000000</td>\n",
       "      <td>0.000000</td>\n",
       "      <td>0.000000</td>\n",
       "      <td>0.000000</td>\n",
       "      <td>...</td>\n",
       "      <td>0.000000</td>\n",
       "      <td>0.000000</td>\n",
       "      <td>0.000000</td>\n",
       "      <td>0.000000</td>\n",
       "      <td>0.000000</td>\n",
       "      <td>0.000000</td>\n",
       "      <td>0.000000</td>\n",
       "      <td>0.000000</td>\n",
       "      <td>0.000000</td>\n",
       "      <td>0.000000</td>\n",
       "    </tr>\n",
       "    <tr>\n",
       "      <th>4</th>\n",
       "      <td>columbine</td>\n",
       "      <td>recall</td>\n",
       "      <td>0.090703</td>\n",
       "      <td>0.000000</td>\n",
       "      <td>0.000000</td>\n",
       "      <td>0.181406</td>\n",
       "      <td>0.181406</td>\n",
       "      <td>0.272109</td>\n",
       "      <td>0.362812</td>\n",
       "      <td>0.362812</td>\n",
       "      <td>...</td>\n",
       "      <td>0.544218</td>\n",
       "      <td>0.544218</td>\n",
       "      <td>0.544218</td>\n",
       "      <td>0.544218</td>\n",
       "      <td>0.544218</td>\n",
       "      <td>0.544218</td>\n",
       "      <td>0.544218</td>\n",
       "      <td>0.544218</td>\n",
       "      <td>0.544218</td>\n",
       "      <td>0.544218</td>\n",
       "    </tr>\n",
       "    <tr>\n",
       "      <th>5</th>\n",
       "      <td>wild pansy</td>\n",
       "      <td>recall</td>\n",
       "      <td>0.000000</td>\n",
       "      <td>0.000000</td>\n",
       "      <td>0.000000</td>\n",
       "      <td>0.000000</td>\n",
       "      <td>0.000000</td>\n",
       "      <td>0.331950</td>\n",
       "      <td>0.331950</td>\n",
       "      <td>0.663900</td>\n",
       "      <td>...</td>\n",
       "      <td>0.829876</td>\n",
       "      <td>0.829876</td>\n",
       "      <td>0.829876</td>\n",
       "      <td>0.829876</td>\n",
       "      <td>0.829876</td>\n",
       "      <td>0.829876</td>\n",
       "      <td>0.829876</td>\n",
       "      <td>0.829876</td>\n",
       "      <td>0.829876</td>\n",
       "      <td>0.829876</td>\n",
       "    </tr>\n",
       "  </tbody>\n",
       "</table>\n",
       "<p>5 rows × 36 columns</p>\n",
       "</div>"
      ],
      "text/plain": [
       "         target  metric         1         2         3         4         5  \\\n",
       "0  common tulip  recall  0.428135  0.754332  0.795107  0.835882  0.835882   \n",
       "2   desert-rose  recall  0.000000  0.000000  0.000000  0.000000  0.000000   \n",
       "3     sweet pea  recall  0.000000  0.000000  0.000000  0.000000  0.000000   \n",
       "4     columbine  recall  0.090703  0.000000  0.000000  0.181406  0.181406   \n",
       "5    wild pansy  recall  0.000000  0.000000  0.000000  0.000000  0.000000   \n",
       "\n",
       "          6         7         8  ...        25        26        27        28  \\\n",
       "0  0.876656  0.876656  0.835882  ...  0.876656  0.876656  0.876656  0.876656   \n",
       "2  0.000000  0.000000  0.327869  ...  0.983607  0.983607  0.983607  0.983607   \n",
       "3  0.000000  0.000000  0.000000  ...  0.000000  0.000000  0.000000  0.000000   \n",
       "4  0.272109  0.362812  0.362812  ...  0.544218  0.544218  0.544218  0.544218   \n",
       "5  0.331950  0.331950  0.663900  ...  0.829876  0.829876  0.829876  0.829876   \n",
       "\n",
       "         29        30        31        32        33        34  \n",
       "0  0.876656  0.876656  0.876656  0.876656  0.876656  0.876656  \n",
       "2  0.983607  0.983607  0.983607  0.983607  0.983607  0.983607  \n",
       "3  0.000000  0.000000  0.000000  0.000000  0.000000  0.000000  \n",
       "4  0.544218  0.544218  0.544218  0.544218  0.544218  0.544218  \n",
       "5  0.829876  0.829876  0.829876  0.829876  0.829876  0.829876  \n",
       "\n",
       "[5 rows x 36 columns]"
      ]
     },
     "execution_count": 5,
     "metadata": {},
     "output_type": "execute_result"
    }
   ],
   "source": [
    "combined_csv = pd.read_csv(os.path.join('result', 'combined.csv'))\n",
    "combined_csv = combined_csv.rename(columns={combined_csv.columns[0]:'target'})\n",
    "combined_csv = combined_csv[combined_csv['metric']=='recall']\n",
    "combined_csv.head()"
   ]
  },
  {
   "cell_type": "markdown",
   "metadata": {},
   "source": [
    "### Original Label File"
   ]
  },
  {
   "cell_type": "code",
   "execution_count": 6,
   "metadata": {},
   "outputs": [
    {
     "data": {
      "text/html": [
       "<div>\n",
       "<style scoped>\n",
       "    .dataframe tbody tr th:only-of-type {\n",
       "        vertical-align: middle;\n",
       "    }\n",
       "\n",
       "    .dataframe tbody tr th {\n",
       "        vertical-align: top;\n",
       "    }\n",
       "\n",
       "    .dataframe thead th {\n",
       "        text-align: right;\n",
       "    }\n",
       "</style>\n",
       "<table border=\"1\" class=\"dataframe\">\n",
       "  <thead>\n",
       "    <tr style=\"text-align: right;\">\n",
       "      <th></th>\n",
       "      <th>dirpath</th>\n",
       "      <th>target</th>\n",
       "      <th>label</th>\n",
       "    </tr>\n",
       "  </thead>\n",
       "  <tbody>\n",
       "    <tr>\n",
       "      <th>0</th>\n",
       "      <td>train/alpine sea holly</td>\n",
       "      <td>alpine sea holly</td>\n",
       "      <td>0</td>\n",
       "    </tr>\n",
       "    <tr>\n",
       "      <th>1</th>\n",
       "      <td>train/alpine sea holly</td>\n",
       "      <td>alpine sea holly</td>\n",
       "      <td>0</td>\n",
       "    </tr>\n",
       "    <tr>\n",
       "      <th>2</th>\n",
       "      <td>train/alpine sea holly</td>\n",
       "      <td>alpine sea holly</td>\n",
       "      <td>0</td>\n",
       "    </tr>\n",
       "    <tr>\n",
       "      <th>3</th>\n",
       "      <td>train/alpine sea holly</td>\n",
       "      <td>alpine sea holly</td>\n",
       "      <td>0</td>\n",
       "    </tr>\n",
       "    <tr>\n",
       "      <th>4</th>\n",
       "      <td>train/alpine sea holly</td>\n",
       "      <td>alpine sea holly</td>\n",
       "      <td>0</td>\n",
       "    </tr>\n",
       "  </tbody>\n",
       "</table>\n",
       "</div>"
      ],
      "text/plain": [
       "                  dirpath            target  label\n",
       "0  train/alpine sea holly  alpine sea holly      0\n",
       "1  train/alpine sea holly  alpine sea holly      0\n",
       "2  train/alpine sea holly  alpine sea holly      0\n",
       "3  train/alpine sea holly  alpine sea holly      0\n",
       "4  train/alpine sea holly  alpine sea holly      0"
      ]
     },
     "execution_count": 6,
     "metadata": {},
     "output_type": "execute_result"
    }
   ],
   "source": [
    "os.chdir('..')\n",
    "label_df = pd.read_csv('trainval.csv')\n",
    "label_df.head()"
   ]
  },
  {
   "cell_type": "markdown",
   "metadata": {},
   "source": [
    "#### 個別species的數量"
   ]
  },
  {
   "cell_type": "code",
   "execution_count": 7,
   "metadata": {},
   "outputs": [
    {
     "data": {
      "text/html": [
       "<div>\n",
       "<style scoped>\n",
       "    .dataframe tbody tr th:only-of-type {\n",
       "        vertical-align: middle;\n",
       "    }\n",
       "\n",
       "    .dataframe tbody tr th {\n",
       "        vertical-align: top;\n",
       "    }\n",
       "\n",
       "    .dataframe thead th {\n",
       "        text-align: right;\n",
       "    }\n",
       "</style>\n",
       "<table border=\"1\" class=\"dataframe\">\n",
       "  <thead>\n",
       "    <tr style=\"text-align: right;\">\n",
       "      <th></th>\n",
       "      <th></th>\n",
       "      <th>count</th>\n",
       "    </tr>\n",
       "    <tr>\n",
       "      <th>label</th>\n",
       "      <th>target</th>\n",
       "      <th></th>\n",
       "    </tr>\n",
       "  </thead>\n",
       "  <tbody>\n",
       "    <tr>\n",
       "      <th>50</th>\n",
       "      <th>iris</th>\n",
       "      <td>1010</td>\n",
       "    </tr>\n",
       "    <tr>\n",
       "      <th>101</th>\n",
       "      <th>wild rose</th>\n",
       "      <td>959</td>\n",
       "    </tr>\n",
       "    <tr>\n",
       "      <th>99</th>\n",
       "      <th>wild geranium</th>\n",
       "      <td>908</td>\n",
       "    </tr>\n",
       "    <tr>\n",
       "      <th>26</th>\n",
       "      <th>common dandelion</th>\n",
       "      <td>727</td>\n",
       "    </tr>\n",
       "    <tr>\n",
       "      <th>86</th>\n",
       "      <th>sunflower</th>\n",
       "      <td>594</td>\n",
       "    </tr>\n",
       "    <tr>\n",
       "      <th>...</th>\n",
       "      <th>...</th>\n",
       "      <td>...</td>\n",
       "    </tr>\n",
       "    <tr>\n",
       "      <th>34</th>\n",
       "      <th>fire lily</th>\n",
       "      <td>25</td>\n",
       "    </tr>\n",
       "    <tr>\n",
       "      <th>80</th>\n",
       "      <th>siam tulip</th>\n",
       "      <td>24</td>\n",
       "    </tr>\n",
       "    <tr>\n",
       "      <th>12</th>\n",
       "      <th>bolero deep blue</th>\n",
       "      <td>23</td>\n",
       "    </tr>\n",
       "    <tr>\n",
       "      <th>62</th>\n",
       "      <th>moon orchid</th>\n",
       "      <td>23</td>\n",
       "    </tr>\n",
       "    <tr>\n",
       "      <th>0</th>\n",
       "      <th>alpine sea holly</th>\n",
       "      <td>23</td>\n",
       "    </tr>\n",
       "  </tbody>\n",
       "</table>\n",
       "<p>104 rows × 1 columns</p>\n",
       "</div>"
      ],
      "text/plain": [
       "                        count\n",
       "label target                 \n",
       "50    iris               1010\n",
       "101   wild rose           959\n",
       "99    wild geranium       908\n",
       "26    common dandelion    727\n",
       "86    sunflower           594\n",
       "...                       ...\n",
       "34    fire lily            25\n",
       "80    siam tulip           24\n",
       "12    bolero deep blue     23\n",
       "62    moon orchid          23\n",
       "0     alpine sea holly     23\n",
       "\n",
       "[104 rows x 1 columns]"
      ]
     },
     "execution_count": 7,
     "metadata": {},
     "output_type": "execute_result"
    }
   ],
   "source": [
    "species_nums = label_df.groupby(['label','target']).count().rename(columns={'dirpath':'count'})\n",
    "species_nums.sort_values('count', ascending=False)"
   ]
  },
  {
   "cell_type": "markdown",
   "metadata": {},
   "source": [
    "### 取得所有數值型資料"
   ]
  },
  {
   "cell_type": "code",
   "execution_count": 8,
   "metadata": {},
   "outputs": [],
   "source": [
    "combined_csv['label'] = combined_csv['target'].apply(lambda x: label_df[label_df['target']==x]['label'].unique()[0])"
   ]
  },
  {
   "cell_type": "code",
   "execution_count": 9,
   "metadata": {},
   "outputs": [
    {
     "data": {
      "text/html": [
       "<div>\n",
       "<style scoped>\n",
       "    .dataframe tbody tr th:only-of-type {\n",
       "        vertical-align: middle;\n",
       "    }\n",
       "\n",
       "    .dataframe tbody tr th {\n",
       "        vertical-align: top;\n",
       "    }\n",
       "\n",
       "    .dataframe thead th {\n",
       "        text-align: right;\n",
       "    }\n",
       "</style>\n",
       "<table border=\"1\" class=\"dataframe\">\n",
       "  <thead>\n",
       "    <tr style=\"text-align: right;\">\n",
       "      <th></th>\n",
       "      <th>target</th>\n",
       "      <th>metric</th>\n",
       "      <th>1</th>\n",
       "      <th>2</th>\n",
       "      <th>3</th>\n",
       "      <th>4</th>\n",
       "      <th>5</th>\n",
       "      <th>6</th>\n",
       "      <th>7</th>\n",
       "      <th>8</th>\n",
       "      <th>...</th>\n",
       "      <th>26</th>\n",
       "      <th>27</th>\n",
       "      <th>28</th>\n",
       "      <th>29</th>\n",
       "      <th>30</th>\n",
       "      <th>31</th>\n",
       "      <th>32</th>\n",
       "      <th>33</th>\n",
       "      <th>34</th>\n",
       "      <th>label</th>\n",
       "    </tr>\n",
       "  </thead>\n",
       "  <tbody>\n",
       "    <tr>\n",
       "      <th>0</th>\n",
       "      <td>common tulip</td>\n",
       "      <td>recall</td>\n",
       "      <td>0.428135</td>\n",
       "      <td>0.754332</td>\n",
       "      <td>0.795107</td>\n",
       "      <td>0.835882</td>\n",
       "      <td>0.835882</td>\n",
       "      <td>0.876656</td>\n",
       "      <td>0.876656</td>\n",
       "      <td>0.835882</td>\n",
       "      <td>...</td>\n",
       "      <td>0.876656</td>\n",
       "      <td>0.876656</td>\n",
       "      <td>0.876656</td>\n",
       "      <td>0.876656</td>\n",
       "      <td>0.876656</td>\n",
       "      <td>0.876656</td>\n",
       "      <td>0.876656</td>\n",
       "      <td>0.876656</td>\n",
       "      <td>0.876656</td>\n",
       "      <td>27</td>\n",
       "    </tr>\n",
       "    <tr>\n",
       "      <th>2</th>\n",
       "      <td>desert-rose</td>\n",
       "      <td>recall</td>\n",
       "      <td>0.000000</td>\n",
       "      <td>0.000000</td>\n",
       "      <td>0.000000</td>\n",
       "      <td>0.000000</td>\n",
       "      <td>0.000000</td>\n",
       "      <td>0.000000</td>\n",
       "      <td>0.000000</td>\n",
       "      <td>0.327869</td>\n",
       "      <td>...</td>\n",
       "      <td>0.983607</td>\n",
       "      <td>0.983607</td>\n",
       "      <td>0.983607</td>\n",
       "      <td>0.983607</td>\n",
       "      <td>0.983607</td>\n",
       "      <td>0.983607</td>\n",
       "      <td>0.983607</td>\n",
       "      <td>0.983607</td>\n",
       "      <td>0.983607</td>\n",
       "      <td>33</td>\n",
       "    </tr>\n",
       "    <tr>\n",
       "      <th>3</th>\n",
       "      <td>sweet pea</td>\n",
       "      <td>recall</td>\n",
       "      <td>0.000000</td>\n",
       "      <td>0.000000</td>\n",
       "      <td>0.000000</td>\n",
       "      <td>0.000000</td>\n",
       "      <td>0.000000</td>\n",
       "      <td>0.000000</td>\n",
       "      <td>0.000000</td>\n",
       "      <td>0.000000</td>\n",
       "      <td>...</td>\n",
       "      <td>0.000000</td>\n",
       "      <td>0.000000</td>\n",
       "      <td>0.000000</td>\n",
       "      <td>0.000000</td>\n",
       "      <td>0.000000</td>\n",
       "      <td>0.000000</td>\n",
       "      <td>0.000000</td>\n",
       "      <td>0.000000</td>\n",
       "      <td>0.000000</td>\n",
       "      <td>87</td>\n",
       "    </tr>\n",
       "    <tr>\n",
       "      <th>4</th>\n",
       "      <td>columbine</td>\n",
       "      <td>recall</td>\n",
       "      <td>0.090703</td>\n",
       "      <td>0.000000</td>\n",
       "      <td>0.000000</td>\n",
       "      <td>0.181406</td>\n",
       "      <td>0.181406</td>\n",
       "      <td>0.272109</td>\n",
       "      <td>0.362812</td>\n",
       "      <td>0.362812</td>\n",
       "      <td>...</td>\n",
       "      <td>0.544218</td>\n",
       "      <td>0.544218</td>\n",
       "      <td>0.544218</td>\n",
       "      <td>0.544218</td>\n",
       "      <td>0.544218</td>\n",
       "      <td>0.544218</td>\n",
       "      <td>0.544218</td>\n",
       "      <td>0.544218</td>\n",
       "      <td>0.544218</td>\n",
       "      <td>25</td>\n",
       "    </tr>\n",
       "    <tr>\n",
       "      <th>5</th>\n",
       "      <td>wild pansy</td>\n",
       "      <td>recall</td>\n",
       "      <td>0.000000</td>\n",
       "      <td>0.000000</td>\n",
       "      <td>0.000000</td>\n",
       "      <td>0.000000</td>\n",
       "      <td>0.000000</td>\n",
       "      <td>0.331950</td>\n",
       "      <td>0.331950</td>\n",
       "      <td>0.663900</td>\n",
       "      <td>...</td>\n",
       "      <td>0.829876</td>\n",
       "      <td>0.829876</td>\n",
       "      <td>0.829876</td>\n",
       "      <td>0.829876</td>\n",
       "      <td>0.829876</td>\n",
       "      <td>0.829876</td>\n",
       "      <td>0.829876</td>\n",
       "      <td>0.829876</td>\n",
       "      <td>0.829876</td>\n",
       "      <td>100</td>\n",
       "    </tr>\n",
       "  </tbody>\n",
       "</table>\n",
       "<p>5 rows × 37 columns</p>\n",
       "</div>"
      ],
      "text/plain": [
       "         target  metric         1         2         3         4         5  \\\n",
       "0  common tulip  recall  0.428135  0.754332  0.795107  0.835882  0.835882   \n",
       "2   desert-rose  recall  0.000000  0.000000  0.000000  0.000000  0.000000   \n",
       "3     sweet pea  recall  0.000000  0.000000  0.000000  0.000000  0.000000   \n",
       "4     columbine  recall  0.090703  0.000000  0.000000  0.181406  0.181406   \n",
       "5    wild pansy  recall  0.000000  0.000000  0.000000  0.000000  0.000000   \n",
       "\n",
       "          6         7         8  ...        26        27        28        29  \\\n",
       "0  0.876656  0.876656  0.835882  ...  0.876656  0.876656  0.876656  0.876656   \n",
       "2  0.000000  0.000000  0.327869  ...  0.983607  0.983607  0.983607  0.983607   \n",
       "3  0.000000  0.000000  0.000000  ...  0.000000  0.000000  0.000000  0.000000   \n",
       "4  0.272109  0.362812  0.362812  ...  0.544218  0.544218  0.544218  0.544218   \n",
       "5  0.331950  0.331950  0.663900  ...  0.829876  0.829876  0.829876  0.829876   \n",
       "\n",
       "         30        31        32        33        34  label  \n",
       "0  0.876656  0.876656  0.876656  0.876656  0.876656     27  \n",
       "2  0.983607  0.983607  0.983607  0.983607  0.983607     33  \n",
       "3  0.000000  0.000000  0.000000  0.000000  0.000000     87  \n",
       "4  0.544218  0.544218  0.544218  0.544218  0.544218     25  \n",
       "5  0.829876  0.829876  0.829876  0.829876  0.829876    100  \n",
       "\n",
       "[5 rows x 37 columns]"
      ]
     },
     "execution_count": 9,
     "metadata": {},
     "output_type": "execute_result"
    }
   ],
   "source": [
    "combined_csv.head()"
   ]
  },
  {
   "cell_type": "code",
   "execution_count": 11,
   "metadata": {},
   "outputs": [
    {
     "data": {
      "text/html": [
       "<div>\n",
       "<style scoped>\n",
       "    .dataframe tbody tr th:only-of-type {\n",
       "        vertical-align: middle;\n",
       "    }\n",
       "\n",
       "    .dataframe tbody tr th {\n",
       "        vertical-align: top;\n",
       "    }\n",
       "\n",
       "    .dataframe thead th {\n",
       "        text-align: right;\n",
       "    }\n",
       "</style>\n",
       "<table border=\"1\" class=\"dataframe\">\n",
       "  <thead>\n",
       "    <tr style=\"text-align: right;\">\n",
       "      <th></th>\n",
       "      <th>1</th>\n",
       "      <th>2</th>\n",
       "      <th>3</th>\n",
       "      <th>4</th>\n",
       "      <th>5</th>\n",
       "      <th>6</th>\n",
       "      <th>7</th>\n",
       "      <th>8</th>\n",
       "      <th>9</th>\n",
       "      <th>10</th>\n",
       "      <th>...</th>\n",
       "      <th>25</th>\n",
       "      <th>26</th>\n",
       "      <th>27</th>\n",
       "      <th>28</th>\n",
       "      <th>29</th>\n",
       "      <th>30</th>\n",
       "      <th>31</th>\n",
       "      <th>32</th>\n",
       "      <th>33</th>\n",
       "      <th>34</th>\n",
       "    </tr>\n",
       "    <tr>\n",
       "      <th>label</th>\n",
       "      <th></th>\n",
       "      <th></th>\n",
       "      <th></th>\n",
       "      <th></th>\n",
       "      <th></th>\n",
       "      <th></th>\n",
       "      <th></th>\n",
       "      <th></th>\n",
       "      <th></th>\n",
       "      <th></th>\n",
       "      <th></th>\n",
       "      <th></th>\n",
       "      <th></th>\n",
       "      <th></th>\n",
       "      <th></th>\n",
       "      <th></th>\n",
       "      <th></th>\n",
       "      <th></th>\n",
       "      <th></th>\n",
       "      <th></th>\n",
       "      <th></th>\n",
       "    </tr>\n",
       "  </thead>\n",
       "  <tbody>\n",
       "    <tr>\n",
       "      <th>27</th>\n",
       "      <td>0.428135</td>\n",
       "      <td>0.754332</td>\n",
       "      <td>0.795107</td>\n",
       "      <td>0.835882</td>\n",
       "      <td>0.835882</td>\n",
       "      <td>0.876656</td>\n",
       "      <td>0.876656</td>\n",
       "      <td>0.835882</td>\n",
       "      <td>0.876656</td>\n",
       "      <td>0.876656</td>\n",
       "      <td>...</td>\n",
       "      <td>0.876656</td>\n",
       "      <td>0.876656</td>\n",
       "      <td>0.876656</td>\n",
       "      <td>0.876656</td>\n",
       "      <td>0.876656</td>\n",
       "      <td>0.876656</td>\n",
       "      <td>0.876656</td>\n",
       "      <td>0.876656</td>\n",
       "      <td>0.876656</td>\n",
       "      <td>0.876656</td>\n",
       "    </tr>\n",
       "    <tr>\n",
       "      <th>33</th>\n",
       "      <td>0.000000</td>\n",
       "      <td>0.000000</td>\n",
       "      <td>0.000000</td>\n",
       "      <td>0.000000</td>\n",
       "      <td>0.000000</td>\n",
       "      <td>0.000000</td>\n",
       "      <td>0.000000</td>\n",
       "      <td>0.327869</td>\n",
       "      <td>0.983607</td>\n",
       "      <td>0.983607</td>\n",
       "      <td>...</td>\n",
       "      <td>0.983607</td>\n",
       "      <td>0.983607</td>\n",
       "      <td>0.983607</td>\n",
       "      <td>0.983607</td>\n",
       "      <td>0.983607</td>\n",
       "      <td>0.983607</td>\n",
       "      <td>0.983607</td>\n",
       "      <td>0.983607</td>\n",
       "      <td>0.983607</td>\n",
       "      <td>0.983607</td>\n",
       "    </tr>\n",
       "    <tr>\n",
       "      <th>87</th>\n",
       "      <td>0.000000</td>\n",
       "      <td>0.000000</td>\n",
       "      <td>0.000000</td>\n",
       "      <td>0.000000</td>\n",
       "      <td>0.000000</td>\n",
       "      <td>0.000000</td>\n",
       "      <td>0.000000</td>\n",
       "      <td>0.000000</td>\n",
       "      <td>0.000000</td>\n",
       "      <td>0.000000</td>\n",
       "      <td>...</td>\n",
       "      <td>0.000000</td>\n",
       "      <td>0.000000</td>\n",
       "      <td>0.000000</td>\n",
       "      <td>0.000000</td>\n",
       "      <td>0.000000</td>\n",
       "      <td>0.000000</td>\n",
       "      <td>0.000000</td>\n",
       "      <td>0.000000</td>\n",
       "      <td>0.000000</td>\n",
       "      <td>0.000000</td>\n",
       "    </tr>\n",
       "    <tr>\n",
       "      <th>25</th>\n",
       "      <td>0.090703</td>\n",
       "      <td>0.000000</td>\n",
       "      <td>0.000000</td>\n",
       "      <td>0.181406</td>\n",
       "      <td>0.181406</td>\n",
       "      <td>0.272109</td>\n",
       "      <td>0.362812</td>\n",
       "      <td>0.362812</td>\n",
       "      <td>0.362812</td>\n",
       "      <td>0.362812</td>\n",
       "      <td>...</td>\n",
       "      <td>0.544218</td>\n",
       "      <td>0.544218</td>\n",
       "      <td>0.544218</td>\n",
       "      <td>0.544218</td>\n",
       "      <td>0.544218</td>\n",
       "      <td>0.544218</td>\n",
       "      <td>0.544218</td>\n",
       "      <td>0.544218</td>\n",
       "      <td>0.544218</td>\n",
       "      <td>0.544218</td>\n",
       "    </tr>\n",
       "    <tr>\n",
       "      <th>100</th>\n",
       "      <td>0.000000</td>\n",
       "      <td>0.000000</td>\n",
       "      <td>0.000000</td>\n",
       "      <td>0.000000</td>\n",
       "      <td>0.000000</td>\n",
       "      <td>0.331950</td>\n",
       "      <td>0.331950</td>\n",
       "      <td>0.663900</td>\n",
       "      <td>0.663900</td>\n",
       "      <td>0.663900</td>\n",
       "      <td>...</td>\n",
       "      <td>0.829876</td>\n",
       "      <td>0.829876</td>\n",
       "      <td>0.829876</td>\n",
       "      <td>0.829876</td>\n",
       "      <td>0.829876</td>\n",
       "      <td>0.829876</td>\n",
       "      <td>0.829876</td>\n",
       "      <td>0.829876</td>\n",
       "      <td>0.829876</td>\n",
       "      <td>0.829876</td>\n",
       "    </tr>\n",
       "  </tbody>\n",
       "</table>\n",
       "<p>5 rows × 34 columns</p>\n",
       "</div>"
      ],
      "text/plain": [
       "              1         2         3         4         5         6         7  \\\n",
       "label                                                                         \n",
       "27     0.428135  0.754332  0.795107  0.835882  0.835882  0.876656  0.876656   \n",
       "33     0.000000  0.000000  0.000000  0.000000  0.000000  0.000000  0.000000   \n",
       "87     0.000000  0.000000  0.000000  0.000000  0.000000  0.000000  0.000000   \n",
       "25     0.090703  0.000000  0.000000  0.181406  0.181406  0.272109  0.362812   \n",
       "100    0.000000  0.000000  0.000000  0.000000  0.000000  0.331950  0.331950   \n",
       "\n",
       "              8         9        10  ...        25        26        27  \\\n",
       "label                                ...                                 \n",
       "27     0.835882  0.876656  0.876656  ...  0.876656  0.876656  0.876656   \n",
       "33     0.327869  0.983607  0.983607  ...  0.983607  0.983607  0.983607   \n",
       "87     0.000000  0.000000  0.000000  ...  0.000000  0.000000  0.000000   \n",
       "25     0.362812  0.362812  0.362812  ...  0.544218  0.544218  0.544218   \n",
       "100    0.663900  0.663900  0.663900  ...  0.829876  0.829876  0.829876   \n",
       "\n",
       "             28        29        30        31        32        33        34  \n",
       "label                                                                        \n",
       "27     0.876656  0.876656  0.876656  0.876656  0.876656  0.876656  0.876656  \n",
       "33     0.983607  0.983607  0.983607  0.983607  0.983607  0.983607  0.983607  \n",
       "87     0.000000  0.000000  0.000000  0.000000  0.000000  0.000000  0.000000  \n",
       "25     0.544218  0.544218  0.544218  0.544218  0.544218  0.544218  0.544218  \n",
       "100    0.829876  0.829876  0.829876  0.829876  0.829876  0.829876  0.829876  \n",
       "\n",
       "[5 rows x 34 columns]"
      ]
     },
     "execution_count": 11,
     "metadata": {},
     "output_type": "execute_result"
    }
   ],
   "source": [
    "timeseries = combined_csv[combined_csv.columns[2:36]].set_index(combined_csv['label'])\n",
    "timeseries.head()"
   ]
  },
  {
   "cell_type": "markdown",
   "metadata": {},
   "source": [
    "### Avg Trend in a period"
   ]
  },
  {
   "cell_type": "code",
   "execution_count": 13,
   "metadata": {},
   "outputs": [],
   "source": [
    "trend = timeseries.T.diff()\n",
    "trend = trend.sum(axis=0)\n",
    "combined_csv['trend'] = combined_csv['label'].apply(lambda x: trend.loc[x])"
   ]
  },
  {
   "cell_type": "code",
   "execution_count": 14,
   "metadata": {},
   "outputs": [],
   "source": [
    "trend = timeseries.T.sum()\n",
    "combined_csv['totalSum'] = combined_csv['label'].apply(lambda x: trend.loc[x])"
   ]
  },
  {
   "cell_type": "markdown",
   "metadata": {},
   "source": [
    "#### 訓練過程中猜不到以及未猜中的cases (prec == 0 & recall == 0)"
   ]
  },
  {
   "cell_type": "code",
   "execution_count": 15,
   "metadata": {},
   "outputs": [
    {
     "data": {
      "text/plain": [
       "array([87, 84, 44, 93, 75, 19, 95, 12, 79])"
      ]
     },
     "execution_count": 15,
     "metadata": {},
     "output_type": "execute_result"
    }
   ],
   "source": [
    "notImprovedIndex = combined_csv[combined_csv['totalSum']==0]['label'].values\n",
    "notImprovedIndex"
   ]
  },
  {
   "cell_type": "markdown",
   "metadata": {},
   "source": [
    "#### trend < 0"
   ]
  },
  {
   "cell_type": "code",
   "execution_count": 16,
   "metadata": {},
   "outputs": [
    {
     "data": {
      "text/plain": [
       "array([78, 86])"
      ]
     },
     "execution_count": 16,
     "metadata": {},
     "output_type": "execute_result"
    }
   ],
   "source": [
    "notImprovedIndex = combined_csv[combined_csv['trend']<0]['label'].values\n",
    "notImprovedIndex"
   ]
  },
  {
   "cell_type": "code",
   "execution_count": 18,
   "metadata": {},
   "outputs": [
    {
     "data": {
      "text/plain": [
       "[<matplotlib.lines.Line2D at 0x7f006c357940>]"
      ]
     },
     "execution_count": 18,
     "metadata": {},
     "output_type": "execute_result"
    },
    {
     "data": {
      "image/png": "[encoded data removed]",
      "text/plain": [
       "<Figure size 432x288 with 1 Axes>"
      ]
     },
     "metadata": {
      "needs_background": "light"
     },
     "output_type": "display_data"
    }
   ],
   "source": [
    "from matplotlib import pyplot as plt\n",
    "plt.plot(range(timeseries.loc[86].size),timeseries.loc[86])"
   ]
  },
  {
   "cell_type": "markdown",
   "metadata": {},
   "source": [
    "#### trend == 0"
   ]
  },
  {
   "cell_type": "code",
   "execution_count": 19,
   "metadata": {},
   "outputs": [
    {
     "data": {
      "text/plain": [
       "array([87, 84, 44, 93, 75, 19, 95, 12, 79])"
      ]
     },
     "execution_count": 19,
     "metadata": {},
     "output_type": "execute_result"
    }
   ],
   "source": [
    "balanceIndex = combined_csv[combined_csv['trend']==0]['label'].values\n",
    "balanceIndex"
   ]
  },
  {
   "cell_type": "markdown",
   "metadata": {},
   "source": [
    "#### 嘗試想預測但是失敗的cases"
   ]
  },
  {
   "cell_type": "code",
   "execution_count": 20,
   "metadata": {},
   "outputs": [
    {
     "data": {
      "text/plain": [
       "set()"
      ]
     },
     "execution_count": 20,
     "metadata": {},
     "output_type": "execute_result"
    }
   ],
   "source": [
    "notImprovedIndex = combined_csv[combined_csv['totalSum']==0]['label'].values\n",
    "balanceIndex = combined_csv[combined_csv['trend']==0]['label'].values\n",
    "set(balanceIndex) - set(notImprovedIndex)"
   ]
  },
  {
   "cell_type": "markdown",
   "metadata": {},
   "source": [
    "### 將做不好的cases去除重新訓練"
   ]
  },
  {
   "cell_type": "markdown",
   "metadata": {},
   "source": [
    "#### 剩餘的classes個數"
   ]
  },
  {
   "cell_type": "code",
   "execution_count": 17,
   "metadata": {},
   "outputs": [
    {
     "data": {
      "text/plain": [
       "94"
      ]
     },
     "execution_count": 17,
     "metadata": {},
     "output_type": "execute_result"
    }
   ],
   "source": [
    "df_filter = label_df[~label_df['label'].isin(notImprovedIndex)]\n",
    "df_filter['label'].nunique()"
   ]
  },
  {
   "cell_type": "markdown",
   "metadata": {},
   "source": [
    "#### 重新安排classes的順序,從 0 開始"
   ]
  },
  {
   "cell_type": "code",
   "execution_count": 18,
   "metadata": {},
   "outputs": [],
   "source": [
    "d = {i:n for n,i in enumerate(df_filter['label'].unique())}\n",
    "df_filter['label'] = df_filter['label'].apply(lambda x: d[x])"
   ]
  },
  {
   "cell_type": "markdown",
   "metadata": {},
   "source": [
    "#### 儲存成新的 ground-truth"
   ]
  },
  {
   "cell_type": "code",
   "execution_count": 20,
   "metadata": {},
   "outputs": [],
   "source": [
    "df_filter.to_csv('new_trainval.csv',index=None)"
   ]
  }
 ],
 "metadata": {
  "kernelspec": {
   "display_name": "Python 3",
   "language": "python",
   "name": "python3"
  },
  "language_info": {
   "codemirror_mode": {
    "name": "ipython",
    "version": 3
   },
   "file_extension": ".py",
   "mimetype": "text/x-python",
   "name": "python",
   "nbconvert_exporter": "python",
   "pygments_lexer": "ipython3",
   "version": "3.7.2"
  }
 },
 "nbformat": 4,
 "nbformat_minor": 4
}
